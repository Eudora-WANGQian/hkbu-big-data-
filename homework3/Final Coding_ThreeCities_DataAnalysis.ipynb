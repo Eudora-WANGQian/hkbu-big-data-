{
 "cells": [
  {
   "cell_type": "code",
   "execution_count": 46,
   "metadata": {},
   "outputs": [],
   "source": [
    "import pandas\n",
    "import os\n",
    "import seaborn as sns\n",
    "import matplotlib.pyplot as plt"
   ]
  },
  {
   "cell_type": "code",
   "execution_count": 47,
   "metadata": {},
   "outputs": [],
   "source": [
    "df = pandas.read_csv('ThreeCitiesData.csv').head(5)"
   ]
  },
  {
   "cell_type": "code",
   "execution_count": 48,
   "metadata": {},
   "outputs": [
    {
     "data": {
      "text/html": [
       "<div>\n",
       "<style scoped>\n",
       "    .dataframe tbody tr th:only-of-type {\n",
       "        vertical-align: middle;\n",
       "    }\n",
       "\n",
       "    .dataframe tbody tr th {\n",
       "        vertical-align: top;\n",
       "    }\n",
       "\n",
       "    .dataframe thead th {\n",
       "        text-align: right;\n",
       "    }\n",
       "</style>\n",
       "<table border=\"1\" class=\"dataframe\">\n",
       "  <thead>\n",
       "    <tr style=\"text-align: right;\">\n",
       "      <th></th>\n",
       "      <th>count</th>\n",
       "      <th>mean</th>\n",
       "      <th>std</th>\n",
       "      <th>min</th>\n",
       "      <th>25%</th>\n",
       "      <th>50%</th>\n",
       "      <th>75%</th>\n",
       "      <th>max</th>\n",
       "    </tr>\n",
       "  </thead>\n",
       "  <tbody>\n",
       "    <tr>\n",
       "      <th>1049</th>\n",
       "      <td>5.0</td>\n",
       "      <td>1463.6</td>\n",
       "      <td>185.127794</td>\n",
       "      <td>1332.0</td>\n",
       "      <td>1332.0</td>\n",
       "      <td>1332.0</td>\n",
       "      <td>1601.0</td>\n",
       "      <td>1721.0</td>\n",
       "    </tr>\n",
       "  </tbody>\n",
       "</table>\n",
       "</div>"
      ],
      "text/plain": [
       "      count    mean         std     min     25%     50%     75%     max\n",
       "1049    5.0  1463.6  185.127794  1332.0  1332.0  1332.0  1601.0  1721.0"
      ]
     },
     "execution_count": 48,
     "metadata": {},
     "output_type": "execute_result"
    }
   ],
   "source": [
    "df.describe().transpose()"
   ]
  },
  {
   "cell_type": "markdown",
   "metadata": {},
   "source": [
    "Get the hotels pricing statistics on numeric variables once for all, a function available in online tutorials.\n",
    "(A trick to have fun with, not related to my story points.)"
   ]
  },
  {
   "cell_type": "code",
   "execution_count": 49,
   "metadata": {},
   "outputs": [],
   "source": [
    "df = pandas.read_csv('ThreeCitiesData.csv', header = None, names = ['Hotel', 'Location', 'Price', 'Rating'])\n",
    "\n",
    "df_delhi = pandas.read_csv('Delhi_OYO_Hotels_Comparison.csv', header = None, names = ['HotelDelhi', 'LocationDelhi', 'PriceDelhi', 'RatingDelhi'])\n",
    "df_jaipur = pandas.read_csv('Jaipur_OYO_Hotels_Comparison.csv', header = None, names = ['HotelJaipur', 'LocationJaipur', 'PriceJaipur', 'RatingJaipur'])\n",
    "df_agra = pandas.read_csv('Agra_OYO_Hotels_Comparison.csv', header = None, names = ['HotelAgra', 'LocationAgra', 'PriceAgra', 'RatingAgra'])"
   ]
  },
  {
   "cell_type": "markdown",
   "metadata": {},
   "source": [
    "**Datasets have been collected in two manners: **\n",
    "\n",
    "1. ThreeCitiesData.csv, an assembly of hotels information of all the three cities;\n",
    "2. The datasets presented in three different csv files in case of further usage."
   ]
  },
  {
   "cell_type": "code",
   "execution_count": 50,
   "metadata": {},
   "outputs": [
    {
     "data": {
      "text/html": [
       "<div>\n",
       "<style scoped>\n",
       "    .dataframe tbody tr th:only-of-type {\n",
       "        vertical-align: middle;\n",
       "    }\n",
       "\n",
       "    .dataframe tbody tr th {\n",
       "        vertical-align: top;\n",
       "    }\n",
       "\n",
       "    .dataframe thead th {\n",
       "        text-align: right;\n",
       "    }\n",
       "</style>\n",
       "<table border=\"1\" class=\"dataframe\">\n",
       "  <thead>\n",
       "    <tr style=\"text-align: right;\">\n",
       "      <th></th>\n",
       "      <th>Hotel</th>\n",
       "      <th>Location</th>\n",
       "      <th>Price</th>\n",
       "      <th>Rating</th>\n",
       "    </tr>\n",
       "  </thead>\n",
       "  <tbody>\n",
       "    <tr>\n",
       "      <th>0</th>\n",
       "      <td>OYO 8404 Hotel Aerofly</td>\n",
       "      <td>Near Airport, Mahipalpur, Delhi</td>\n",
       "      <td>1049</td>\n",
       "      <td>New</td>\n",
       "    </tr>\n",
       "    <tr>\n",
       "      <th>1</th>\n",
       "      <td>OYO 7634 Hotel Delhi Continental</td>\n",
       "      <td>Plot No. 8218-19, Arakashan Road, Delhi</td>\n",
       "      <td>1332</td>\n",
       "      <td>New</td>\n",
       "    </tr>\n",
       "    <tr>\n",
       "      <th>2</th>\n",
       "      <td>OYO 3349 Hotel Anoop</td>\n",
       "      <td>Plot No. 1566, Main Bazar, Delhi</td>\n",
       "      <td>1332</td>\n",
       "      <td>3.7</td>\n",
       "    </tr>\n",
       "    <tr>\n",
       "      <th>3</th>\n",
       "      <td>OYO 7619 Hotel Smart Stay</td>\n",
       "      <td>Near NH8, Aerocity, Delhi</td>\n",
       "      <td>1332</td>\n",
       "      <td>3.7</td>\n",
       "    </tr>\n",
       "    <tr>\n",
       "      <th>4</th>\n",
       "      <td>OYO 7844 Hotel Welcome Plaza</td>\n",
       "      <td>Plot No. 15-A/53, W.E.A, Ajmal Khan Road, Karo...</td>\n",
       "      <td>1601</td>\n",
       "      <td>3.7</td>\n",
       "    </tr>\n",
       "    <tr>\n",
       "      <th>5</th>\n",
       "      <td>OYO 497 Hotel Welcome Palace</td>\n",
       "      <td>Near Vaishno Devi Mandir, Arakashan Road, Paha...</td>\n",
       "      <td>1721</td>\n",
       "      <td>3.7</td>\n",
       "    </tr>\n",
       "    <tr>\n",
       "      <th>6</th>\n",
       "      <td>OYO 9726 Hotel Aura Palace Deluxe</td>\n",
       "      <td>Sangtrashan, Pahar Ganj, Delhi</td>\n",
       "      <td>1741</td>\n",
       "      <td>4.3</td>\n",
       "    </tr>\n",
       "    <tr>\n",
       "      <th>7</th>\n",
       "      <td>OYO 12171 Hotel Sky View</td>\n",
       "      <td>Mahipalpur Extention, Delhi</td>\n",
       "      <td>1750</td>\n",
       "      <td>4.3</td>\n",
       "    </tr>\n",
       "    <tr>\n",
       "      <th>8</th>\n",
       "      <td>OYO 6169 Hotel Prem Deluxe</td>\n",
       "      <td>Near New Delhi Railway Station, Paharganj, Delhi</td>\n",
       "      <td>1765</td>\n",
       "      <td>4.4</td>\n",
       "    </tr>\n",
       "    <tr>\n",
       "      <th>9</th>\n",
       "      <td>OYO 11633 Hotel Sweet Palace</td>\n",
       "      <td>Main Vasant Kunj Road, Mata Chowk, Mahipalpur,...</td>\n",
       "      <td>1768</td>\n",
       "      <td>4.4</td>\n",
       "    </tr>\n",
       "  </tbody>\n",
       "</table>\n",
       "</div>"
      ],
      "text/plain": [
       "                               Hotel  \\\n",
       "0             OYO 8404 Hotel Aerofly   \n",
       "1   OYO 7634 Hotel Delhi Continental   \n",
       "2               OYO 3349 Hotel Anoop   \n",
       "3          OYO 7619 Hotel Smart Stay   \n",
       "4       OYO 7844 Hotel Welcome Plaza   \n",
       "5       OYO 497 Hotel Welcome Palace   \n",
       "6  OYO 9726 Hotel Aura Palace Deluxe   \n",
       "7           OYO 12171 Hotel Sky View   \n",
       "8         OYO 6169 Hotel Prem Deluxe   \n",
       "9       OYO 11633 Hotel Sweet Palace   \n",
       "\n",
       "                                            Location  Price Rating  \n",
       "0                    Near Airport, Mahipalpur, Delhi   1049    New  \n",
       "1            Plot No. 8218-19, Arakashan Road, Delhi   1332    New  \n",
       "2                   Plot No. 1566, Main Bazar, Delhi   1332    3.7  \n",
       "3                          Near NH8, Aerocity, Delhi   1332    3.7  \n",
       "4  Plot No. 15-A/53, W.E.A, Ajmal Khan Road, Karo...   1601    3.7  \n",
       "5  Near Vaishno Devi Mandir, Arakashan Road, Paha...   1721    3.7  \n",
       "6                     Sangtrashan, Pahar Ganj, Delhi   1741    4.3  \n",
       "7                        Mahipalpur Extention, Delhi   1750    4.3  \n",
       "8   Near New Delhi Railway Station, Paharganj, Delhi   1765    4.4  \n",
       "9  Main Vasant Kunj Road, Mata Chowk, Mahipalpur,...   1768    4.4  "
      ]
     },
     "execution_count": 50,
     "metadata": {},
     "output_type": "execute_result"
    }
   ],
   "source": [
    "df.head(10)"
   ]
  },
  {
   "cell_type": "markdown",
   "metadata": {},
   "source": [
    "Check if the header works properly."
   ]
  },
  {
   "cell_type": "code",
   "execution_count": 51,
   "metadata": {},
   "outputs": [],
   "source": [
    "%matplotlib inline\n",
    "import warnings\n",
    "warnings.filterwarnings('ignore')\n",
    "plt.rcParams[\"patch.force_edgecolor\"] = True"
   ]
  },
  {
   "cell_type": "markdown",
   "metadata": {},
   "source": [
    "A plotting method to flexibly plot a univariate distribution of observations, which is avaliable in GitHub:\n",
    "https://github.com/StephanieStallworth/Exploratory_Data_Analysis_Visualization_Python/blob/master/Python%20A-Z%20Movie%20Rating%20Data%20Visualization.ipynb"
   ]
  },
  {
   "cell_type": "code",
   "execution_count": 52,
   "metadata": {},
   "outputs": [
    {
     "data": {
      "image/png": "[encoded data removed]",
      "text/plain": [
       "<Figure size 432x288 with 1 Axes>"
      ]
     },
     "metadata": {},
     "output_type": "display_data"
    }
   ],
   "source": [
    "PriceAnalysis = sns.distplot(df.Price, bins = 15)"
   ]
  },
  {
   "cell_type": "markdown",
   "metadata": {},
   "source": [
    "**Graph information: **\n",
    "The histogram demonstrates the distribution of hotel prices in the three cities.\n",
    "\n",
    "**- Story point 1**\n",
    "\n",
    "Most hotels in the three northern Indian cities, Delhi, Jaipur and Agra, which are generally known as the \"golden triangle cities\", have their prices ranging from ₹1,000₹ to ₹5,000. \n",
    "The largest number of hotels have their rooms tagged from ₹1,000 to ₹1,250, and then the hotel numbers descending with the room price getting higher."
   ]
  },
  {
   "cell_type": "code",
   "execution_count": 53,
   "metadata": {},
   "outputs": [
    {
     "data": {
      "image/png": "[encoded data removed]",
      "text/plain": [
       "<Figure size 432x288 with 1 Axes>"
      ]
     },
     "metadata": {},
     "output_type": "display_data"
    }
   ],
   "source": [
    "plt.hist(df_delhi.PriceDelhi, bins = 15)\n",
    "plt.hist(df_jaipur.PriceJaipur, bins = 15)\n",
    "plt.show()"
   ]
  },
  {
   "cell_type": "markdown",
   "metadata": {},
   "source": [
    "**Graph information: **The stacked histogram illustrates the comparison of hotel prices between Delhi (blue) and Jaipur (orange).\n",
    "\n",
    "**- Story point 2 **\n",
    "\n",
    "Take a close look into each city, some distinctive features can be discovered: Most hotels in Jaipur cost ₹1,000 to ₹1,250, a characteristic that is very much identical to that of the general pricing distribution; while in Delhi, the prices are distributed in a relatively more even manner, with the prices of most hotels spreading around the block roughly between ₹2,000 and ₹4,500, from which we can identify that the housing price is more expensive in Delhi."
   ]
  },
  {
   "cell_type": "code",
   "execution_count": 54,
   "metadata": {},
   "outputs": [
    {
     "data": {
      "text/html": [
       "<div>\n",
       "<style scoped>\n",
       "    .dataframe tbody tr th:only-of-type {\n",
       "        vertical-align: middle;\n",
       "    }\n",
       "\n",
       "    .dataframe tbody tr th {\n",
       "        vertical-align: top;\n",
       "    }\n",
       "\n",
       "    .dataframe thead th {\n",
       "        text-align: right;\n",
       "    }\n",
       "</style>\n",
       "<table border=\"1\" class=\"dataframe\">\n",
       "  <thead>\n",
       "    <tr style=\"text-align: right;\">\n",
       "      <th></th>\n",
       "      <th>Hotel</th>\n",
       "      <th>Location</th>\n",
       "      <th>Price</th>\n",
       "      <th>Rating</th>\n",
       "    </tr>\n",
       "  </thead>\n",
       "  <tbody>\n",
       "    <tr>\n",
       "      <th>0</th>\n",
       "      <td>OYO 8404 Hotel Aerofly</td>\n",
       "      <td>Near Airport, Mahipalpur, Delhi</td>\n",
       "      <td>1049</td>\n",
       "      <td>New</td>\n",
       "    </tr>\n",
       "    <tr>\n",
       "      <th>160</th>\n",
       "      <td>OYO 9643 Hotel All Heavens</td>\n",
       "      <td>Wazirpur Ring Road, Delhi</td>\n",
       "      <td>2666</td>\n",
       "      <td>New</td>\n",
       "    </tr>\n",
       "    <tr>\n",
       "      <th>240</th>\n",
       "      <td>OYO 12464 Hotel C Pearls</td>\n",
       "      <td>Above VISHAL MEGA MART, Metro Pillar no 511, M...</td>\n",
       "      <td>3732</td>\n",
       "      <td>New</td>\n",
       "    </tr>\n",
       "    <tr>\n",
       "      <th>233</th>\n",
       "      <td>OYO 518 Hotel Sundeep Inn</td>\n",
       "      <td>Near Holy Angels Hospital, Vasant vihar, Delhi</td>\n",
       "      <td>3499</td>\n",
       "      <td>New</td>\n",
       "    </tr>\n",
       "    <tr>\n",
       "      <th>232</th>\n",
       "      <td>OYO 10960 Hotel Royal India</td>\n",
       "      <td>Road no 32, Punjabi Bagh, Delhi</td>\n",
       "      <td>3411</td>\n",
       "      <td>New</td>\n",
       "    </tr>\n",
       "  </tbody>\n",
       "</table>\n",
       "</div>"
      ],
      "text/plain": [
       "                           Hotel  \\\n",
       "0         OYO 8404 Hotel Aerofly   \n",
       "160   OYO 9643 Hotel All Heavens   \n",
       "240     OYO 12464 Hotel C Pearls   \n",
       "233    OYO 518 Hotel Sundeep Inn   \n",
       "232  OYO 10960 Hotel Royal India   \n",
       "\n",
       "                                              Location  Price Rating  \n",
       "0                      Near Airport, Mahipalpur, Delhi   1049    New  \n",
       "160                          Wazirpur Ring Road, Delhi   2666    New  \n",
       "240  Above VISHAL MEGA MART, Metro Pillar no 511, M...   3732    New  \n",
       "233     Near Holy Angels Hospital, Vasant vihar, Delhi   3499    New  \n",
       "232                    Road no 32, Punjabi Bagh, Delhi   3411    New  "
      ]
     },
     "execution_count": 54,
     "metadata": {},
     "output_type": "execute_result"
    }
   ],
   "source": [
    "df.sort_values(by = 'Rating', ascending = False).head(5)"
   ]
  },
  {
   "cell_type": "markdown",
   "metadata": {},
   "source": [
    "**- Story point 3**\n",
    "\n",
    "In terms of the hotels' rating in the three cities, it is visible that many hotels, marked with the word \"New\", have not had any rating credit yet. Thus we may reach a story idea that the Indian tourism industry is prospering since many hotels have recently been built and opened to tourists.\n",
    "\n",
    "While to other hotels, ratings have been divided into four categories: \n",
    "\n",
    "**Excellent: 4.5-4.9;\n",
    "Very good: 4.0-4.4;\n",
    "Good: 3.5-3.9;\n",
    "Fair: 3.1-3.4;**\n",
    "\n",
    "Delving into the rating distribution of hotels in the three cities, we can have a general idea about their service."
   ]
  },
  {
   "cell_type": "code",
   "execution_count": 55,
   "metadata": {},
   "outputs": [
    {
     "name": "stdout",
     "output_type": "stream",
     "text": [
      "{'New': 55, 'Excellent': 48, 'VeryGood': 137, 'Good': 18, 'Fair': 2}\n"
     ]
    }
   ],
   "source": [
    "def cr_Delhi(a):\n",
    "    rating_number_delhi = len(df_delhi[df_delhi['RatingDelhi'] == a])\n",
    "    return rating_number_delhi\n",
    "\n",
    "New_d = cr_Delhi('New')\n",
    "Excellent_d = cr_Delhi('4.5') + cr_Delhi('4.6') + cr_Delhi('4.7') + cr_Delhi('4.8') + cr_Delhi('4.9')\n",
    "VeryGood_d = cr_Delhi('4.0') + cr_Delhi('4.1') + cr_Delhi('4.2') + cr_Delhi('4.3') + cr_Delhi('4.4')\n",
    "Good_d = cr_Delhi('3.5') + cr_Delhi('3.6') + cr_Delhi('3.7') + cr_Delhi('3.8') + cr_Delhi('3.9')\n",
    "Fair_d = cr_Delhi('3.0') + cr_Delhi('3.1') + cr_Delhi('3.2') + cr_Delhi('3.3') + cr_Delhi('3.4')\n",
    "\n",
    "Rating_Delhi = {}\n",
    "Rating_Delhi['New']=New_d\n",
    "Rating_Delhi['Excellent']=Excellent_d \n",
    "Rating_Delhi['VeryGood']=VeryGood_d\n",
    "Rating_Delhi['Good']=Good_d\n",
    "Rating_Delhi['Fair']=Fair_d\n",
    "\n",
    "print(Rating_Delhi)"
   ]
  },
  {
   "cell_type": "markdown",
   "metadata": {},
   "source": [
    "Collect rating statistics by sorting credits and \"New\" into **the five aforementioned categories**. \n",
    "\n",
    "The step has been repeated for three times, using the individual dataset of each city."
   ]
  },
  {
   "cell_type": "code",
   "execution_count": 56,
   "metadata": {},
   "outputs": [
    {
     "name": "stdout",
     "output_type": "stream",
     "text": [
      "{'New': 29, 'Excellent': 29, 'VeryGood': 66, 'Good': 4, 'Fair': 0}\n"
     ]
    }
   ],
   "source": [
    "def cr_Jaipur(b):\n",
    "    rating_number_jaipur = len(df_jaipur[df_jaipur['RatingJaipur'] == b])\n",
    "    return rating_number_jaipur\n",
    "\n",
    "New_j = cr_Jaipur('New')\n",
    "Excellent_j = cr_Jaipur('4.5') + cr_Jaipur('4.6') + cr_Jaipur('4.7') + cr_Jaipur('4.8') + cr_Jaipur('4.9')\n",
    "VeryGood_j = cr_Jaipur('4.0') + cr_Jaipur('4.1') + cr_Jaipur('4.2') + cr_Jaipur('4.3') + cr_Jaipur('4.4')\n",
    "Good_j = cr_Jaipur('3.5') + cr_Jaipur('3.6') + cr_Jaipur('3.7') + cr_Jaipur('3.8') + cr_Jaipur('3.9')\n",
    "Fair_j = cr_Jaipur('3.0') + cr_Jaipur('3.1') + cr_Jaipur('3.2') + cr_Jaipur('3.3') + cr_Jaipur('3.4')\n",
    "\n",
    "Rating_Jaipur = {}\n",
    "Rating_Jaipur['New']=New_j\n",
    "Rating_Jaipur['Excellent']=Excellent_j \n",
    "Rating_Jaipur['VeryGood']=VeryGood_j\n",
    "Rating_Jaipur['Good']=Good_j\n",
    "Rating_Jaipur['Fair']=Fair_j\n",
    "\n",
    "print (Rating_Jaipur)"
   ]
  },
  {
   "cell_type": "code",
   "execution_count": 57,
   "metadata": {},
   "outputs": [
    {
     "name": "stdout",
     "output_type": "stream",
     "text": [
      "{'New': 6, 'Excellent': 2, 'VeryGood': 26, 'Good': 6, 'Fair': 0}\n"
     ]
    }
   ],
   "source": [
    "def cr_Agra(c):\n",
    "    rating_number_agra = len(df_agra[df_agra['RatingAgra'] == c])\n",
    "    return rating_number_agra\n",
    "\n",
    "New_a = cr_Agra('New')\n",
    "Excellent_a = cr_Agra('4.5') + cr_Agra('4.6') + cr_Agra('4.7') + cr_Agra('4.8') + cr_Agra('4.9')\n",
    "VeryGood_a = cr_Agra('4.0') + cr_Agra('4.1') + cr_Agra('4.2') + cr_Agra('4.3') + cr_Agra('4.4')\n",
    "Good_a = cr_Agra('3.5') + cr_Agra('3.6') + cr_Agra('3.7') + cr_Agra('3.8') + cr_Agra('3.9')\n",
    "Fair_a = cr_Agra('3.0') + cr_Agra('3.1') + cr_Agra('3.2') + cr_Agra('3.3') + cr_Agra('3.4')\n",
    "\n",
    "Rating_Agra = {}\n",
    "Rating_Agra['New']=New_a\n",
    "Rating_Agra['Excellent']=Excellent_a \n",
    "Rating_Agra['VeryGood']=VeryGood_a\n",
    "Rating_Agra['Good']=Good_a\n",
    "Rating_Agra['Fair']=Fair_a\n",
    "\n",
    "print (Rating_Agra)"
   ]
  },
  {
   "cell_type": "code",
   "execution_count": 58,
   "metadata": {},
   "outputs": [
    {
     "name": "stdout",
     "output_type": "stream",
     "text": [
      "   Golden Triagle Cities   variable  value\n",
      "0                  Delhi        New     55\n",
      "1                 Jaipur        New     29\n",
      "2                   Agra        New      6\n",
      "3                  Delhi  Excellent     48\n",
      "4                 Jaipur  Excellent     29\n",
      "5                   Agra  Excellent      2\n",
      "6                  Delhi   VeryGood    137\n",
      "7                 Jaipur   VeryGood     66\n",
      "8                   Agra   VeryGood     26\n",
      "9                  Delhi       Good     18\n",
      "10                Jaipur       Good      4\n",
      "11                  Agra       Good      6\n",
      "12                 Delhi       Fair      2\n",
      "13                Jaipur       Fair      0\n",
      "14                  Agra       Fair      0\n"
     ]
    }
   ],
   "source": [
    "your_df = pandas.DataFrame(data = {'Golden Triagle Cities':['Delhi', 'Jaipur', 'Agra'],\n",
    "            'New':[55, 29, 6],\n",
    "            'Excellent':[48, 29, 2],\n",
    "            'VeryGood':[137, 66, 26],\n",
    "            'Good':[18, 4, 6],\n",
    "            'Fair':[2, 0, 0]})\n",
    "long_df = pandas.melt(your_df, id_vars = ['Golden Triagle Cities'], value_vars = ['New', 'Excellent', 'VeryGood', 'Good', 'Fair'])\n",
    "print(long_df)"
   ]
  },
  {
   "cell_type": "markdown",
   "metadata": {},
   "source": [
    "Mannually input the rating data collected in the previous stage to create a table with the \"melt\" function."
   ]
  },
  {
   "cell_type": "code",
   "execution_count": 63,
   "metadata": {},
   "outputs": [
    {
     "data": {
      "image/png": "[encoded data removed]",
      "text/plain": [
       "<Figure size 432x288 with 1 Axes>"
      ]
     },
     "metadata": {},
     "output_type": "display_data"
    }
   ],
   "source": [
    "my_plot = sns.barplot(x = \"Golden Triagle Cities\", y = \"value\", hue = \"variable\", data = long_df)\n",
    "plt.show()"
   ]
  },
  {
   "cell_type": "markdown",
   "metadata": {},
   "source": [
    "**- Story point 4**\n",
    "\n",
    "The clusterd bar chart shows that most hotels provide satisfactory room service since it is evident that the green bars stand for \"Very Good\" service have a large amount of hotels listed below, followed by the orange bars, which represents \"Excellent\" service. "
   ]
  }
 ],
 "metadata": {
  "kernelspec": {
   "display_name": "Python 3",
   "language": "python",
   "name": "python3"
  },
  "language_info": {
   "codemirror_mode": {
    "name": "ipython",
    "version": 3
   },
   "file_extension": ".py",
   "mimetype": "text/x-python",
   "name": "python",
   "nbconvert_exporter": "python",
   "pygments_lexer": "ipython3",
   "version": "3.6.4"
  }
 },
 "nbformat": 4,
 "nbformat_minor": 2
}
