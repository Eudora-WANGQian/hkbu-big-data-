{
 "cells": [
  {
   "cell_type": "code",
   "execution_count": 79,
   "metadata": {},
   "outputs": [],
   "source": [
    "from matplotlib import pyplot as plt\n",
    "import pandas as pd\n",
    "import seaborn as sns\n",
    "import numpy as np"
   ]
  },
  {
   "cell_type": "code",
   "execution_count": 2,
   "metadata": {},
   "outputs": [],
   "source": [
    "df1=pd.read_csv('Dataset1_Syria Archive.csv',header=None,names=['URL','title','summary','date','time','location','weapon','collection','violation'])\n",
    "df2 = pd.read_csv('Dataset2_Violations Documentation Center in Syria.csv', header=None, names=['name', 'status', 'sex', 'province', 'area','date', 'cause of death','actors'])"
   ]
  },
  {
   "cell_type": "code",
   "execution_count": 46,
   "metadata": {
    "scrolled": true
   },
   "outputs": [
    {
     "data": {
      "text/html": [
       "<div>\n",
       "<style scoped>\n",
       "    .dataframe tbody tr th:only-of-type {\n",
       "        vertical-align: middle;\n",
       "    }\n",
       "\n",
       "    .dataframe tbody tr th {\n",
       "        vertical-align: top;\n",
       "    }\n",
       "\n",
       "    .dataframe thead th {\n",
       "        text-align: right;\n",
       "    }\n",
       "</style>\n",
       "<table border=\"1\" class=\"dataframe\">\n",
       "  <thead>\n",
       "    <tr style=\"text-align: right;\">\n",
       "      <th></th>\n",
       "      <th>URL</th>\n",
       "      <th>title</th>\n",
       "      <th>summary</th>\n",
       "      <th>date</th>\n",
       "      <th>time</th>\n",
       "      <th>location</th>\n",
       "      <th>weapon</th>\n",
       "      <th>collection</th>\n",
       "      <th>violation</th>\n",
       "      <th>location_clean</th>\n",
       "    </tr>\n",
       "  </thead>\n",
       "  <tbody>\n",
       "    <tr>\n",
       "      <th>0</th>\n",
       "      <td>https://syrianarchive.org/en/database?after=20...</td>\n",
       "      <td>Russian aircrafts commit a massacre in Kafar H...</td>\n",
       "      <td>Russian aircrafts commit a massacre in Kafar H...</td>\n",
       "      <td>2016-02-27</td>\n",
       "      <td>3:16:24</td>\n",
       "      <td>ALEPPO : Kafr hamrah</td>\n",
       "      <td>NaN</td>\n",
       "      <td>Civilian casualties as a result of alleged rus...</td>\n",
       "      <td>Unlawful attacks</td>\n",
       "      <td>ALEPPO</td>\n",
       "    </tr>\n",
       "    <tr>\n",
       "      <th>1</th>\n",
       "      <td>https://syrianarchive.org/en/database?after=20...</td>\n",
       "      <td>#Witness: 8 killed by Russian airstrikes on th...</td>\n",
       "      <td>#Witness: 8 killed by Russian airstrikes on th...</td>\n",
       "      <td>2016-02-27</td>\n",
       "      <td>6:03:25</td>\n",
       "      <td>ALEPPO : Kafr hamrah</td>\n",
       "      <td>NaN</td>\n",
       "      <td>Civilian casualties as a result of alleged rus...</td>\n",
       "      <td>Unlawful attacks</td>\n",
       "      <td>ALEPPO</td>\n",
       "    </tr>\n",
       "  </tbody>\n",
       "</table>\n",
       "</div>"
      ],
      "text/plain": [
       "                                                 URL  \\\n",
       "0  https://syrianarchive.org/en/database?after=20...   \n",
       "1  https://syrianarchive.org/en/database?after=20...   \n",
       "\n",
       "                                               title  \\\n",
       "0  Russian aircrafts commit a massacre in Kafar H...   \n",
       "1  #Witness: 8 killed by Russian airstrikes on th...   \n",
       "\n",
       "                                             summary        date     time  \\\n",
       "0  Russian aircrafts commit a massacre in Kafar H...  2016-02-27  3:16:24   \n",
       "1  #Witness: 8 killed by Russian airstrikes on th...  2016-02-27  6:03:25   \n",
       "\n",
       "               location weapon  \\\n",
       "0  ALEPPO : Kafr hamrah    NaN   \n",
       "1  ALEPPO : Kafr hamrah    NaN   \n",
       "\n",
       "                                          collection         violation  \\\n",
       "0  Civilian casualties as a result of alleged rus...  Unlawful attacks   \n",
       "1  Civilian casualties as a result of alleged rus...  Unlawful attacks   \n",
       "\n",
       "  location_clean  \n",
       "0        ALEPPO   \n",
       "1        ALEPPO   "
      ]
     },
     "execution_count": 46,
     "metadata": {},
     "output_type": "execute_result"
    }
   ],
   "source": [
    "df1[:2]"
   ]
  },
  {
   "cell_type": "code",
   "execution_count": 47,
   "metadata": {},
   "outputs": [
    {
     "data": {
      "text/html": [
       "<div>\n",
       "<style scoped>\n",
       "    .dataframe tbody tr th:only-of-type {\n",
       "        vertical-align: middle;\n",
       "    }\n",
       "\n",
       "    .dataframe tbody tr th {\n",
       "        vertical-align: top;\n",
       "    }\n",
       "\n",
       "    .dataframe thead th {\n",
       "        text-align: right;\n",
       "    }\n",
       "</style>\n",
       "<table border=\"1\" class=\"dataframe\">\n",
       "  <thead>\n",
       "    <tr style=\"text-align: right;\">\n",
       "      <th></th>\n",
       "      <th>name</th>\n",
       "      <th>status</th>\n",
       "      <th>sex</th>\n",
       "      <th>province</th>\n",
       "      <th>area</th>\n",
       "      <th>date</th>\n",
       "      <th>cause of death</th>\n",
       "      <th>actors</th>\n",
       "    </tr>\n",
       "  </thead>\n",
       "  <tbody>\n",
       "    <tr>\n",
       "      <th>0</th>\n",
       "      <td>Abdulla Riyad Hammash</td>\n",
       "      <td>Non-Civilian</td>\n",
       "      <td>Adult - Male</td>\n",
       "      <td>Idlib</td>\n",
       "      <td>Jisr Shagour: Najieh</td>\n",
       "      <td>2016-02-26</td>\n",
       "      <td>Shooting</td>\n",
       "      <td>NaN</td>\n",
       "    </tr>\n",
       "    <tr>\n",
       "      <th>1</th>\n",
       "      <td>Muhannad Abo Wiliam</td>\n",
       "      <td>Non-Civilian</td>\n",
       "      <td>Adult - Male</td>\n",
       "      <td>Damascus Suburbs</td>\n",
       "      <td>Daraya</td>\n",
       "      <td>2016-02-26</td>\n",
       "      <td>Shooting</td>\n",
       "      <td>NaN</td>\n",
       "    </tr>\n",
       "  </tbody>\n",
       "</table>\n",
       "</div>"
      ],
      "text/plain": [
       "                    name        status           sex          province  \\\n",
       "0  Abdulla Riyad Hammash  Non-Civilian  Adult - Male             Idlib   \n",
       "1    Muhannad Abo Wiliam  Non-Civilian  Adult - Male  Damascus Suburbs   \n",
       "\n",
       "                   area        date cause of death actors  \n",
       "0  Jisr Shagour: Najieh  2016-02-26       Shooting    NaN  \n",
       "1                Daraya  2016-02-26       Shooting    NaN  "
      ]
     },
     "execution_count": 47,
     "metadata": {},
     "output_type": "execute_result"
    }
   ],
   "source": [
    "df2[:2]"
   ]
  },
  {
   "cell_type": "markdown",
   "metadata": {},
   "source": [
    "# Part 1 Data Analysis"
   ]
  },
  {
   "cell_type": "markdown",
   "metadata": {},
   "source": [
    "## Clean and analyse locations in the first dataset from Syrian Archive"
   ]
  },
  {
   "cell_type": "code",
   "execution_count": 45,
   "metadata": {
    "scrolled": true
   },
   "outputs": [
    {
     "data": {
      "text/plain": [
       "ALEPPO       1920\n",
       "IDLIB         219\n",
       "HAMA          103\n",
       "DAMASCUS       97\n",
       "nan            41\n",
       "HOMS           39\n",
       "DARAA           9\n",
       "LATTAKIA        2\n",
       "حلب             1\n",
       "Name: location_clean, dtype: int64"
      ]
     },
     "execution_count": 45,
     "metadata": {},
     "output_type": "execute_result"
    }
   ],
   "source": [
    "def clean_location(r):\n",
    "    return str(r).split(':')[0]\n",
    "df1['location_clean']=df1['location'].apply(clean_location)\n",
    "df1['location_clean'].apply(str).value_counts()"
   ]
  },
  {
   "cell_type": "code",
   "execution_count": 125,
   "metadata": {},
   "outputs": [],
   "source": [
    "#replace \"حلب\" with \"missing value\"\n",
    "df_media_location=pd.DataFrame({'location':['Aleppo','Idlib','Hama','Damascus','NaN','Homs','Daraa','Lattakia','missing value'],'number':[1920,219,103,97,41,39,9,2,1]})\n",
    "#calculate the distribution of locations\n",
    "total=0\n",
    "percentage=[]\n",
    "for i in df_media_location['number']:\n",
    "    total=total+i\n",
    "for i in df_media_location['number']:\n",
    "    percentage.append(i/total)\n",
    "df_media_location['percentage']=pd.Series(percentage)"
   ]
  },
  {
   "cell_type": "markdown",
   "metadata": {},
   "source": [
    "## Clean and analyse death causes in the first dataset from Syrian Archive"
   ]
  },
  {
   "cell_type": "code",
   "execution_count": 11,
   "metadata": {},
   "outputs": [
    {
     "data": {
      "text/plain": [
       "Civilian casualties as a result of alleged russian attacks                               230\n",
       "Chemical weapons                                                                         139\n",
       "Attacks against hospitals                                                                 92\n",
       "Chemical Weapons                                                                          11\n",
       "Attacks against schools                                                                    9\n",
       "Attacks against hospitals, Chemical weapons                                                8\n",
       "Attacks against humanitarian relief personnel and objects                                  5\n",
       "Civilian casualties as a result of alleged russian attacks, Attacks against hospitals      3\n",
       "Attacks against hospitals, Attacks against humanitarian relief personnel and objects       2\n",
       "Attacks against bakeries                                                                   1\n",
       "Attacks against journalists                                                                1\n",
       "Name: collection, dtype: int64"
      ]
     },
     "execution_count": 11,
     "metadata": {},
     "output_type": "execute_result"
    }
   ],
   "source": [
    "death_cause=df1['collection'].value_counts()\n",
    "death_cause"
   ]
  },
  {
   "cell_type": "code",
   "execution_count": 35,
   "metadata": {},
   "outputs": [],
   "source": [
    "death_cause_media=pd.DataFrame({'cause':['Civilian casualties as a result of alleged russian attacks',\n",
    "                                         'Chemical weapons','Attacks against hospitals',\n",
    "                                            'Attacks against schools',\n",
    "                                            'Attacks against humanitarian relief personnel and objects',\n",
    "                                            \"Attacks against bakeries\",\n",
    "                                            \"Attacks against journalists\"],\n",
    "                                'number':[233,158,105,9,7,1,1]})\n",
    "#calculate the distribution of locations\n",
    "total=0\n",
    "percentage=[]\n",
    "for i in death_cause_media['number']:\n",
    "    total=total+i\n",
    "for i in death_cause_media['number']:\n",
    "    percentage.append(i/total)\n",
    "death_cause_media['percentage']=pd.Series(percentage)"
   ]
  },
  {
   "cell_type": "markdown",
   "metadata": {},
   "source": [
    "## Clean and analyse locations in the second dataset from Violation Documentation Center in Syria"
   ]
  },
  {
   "cell_type": "code",
   "execution_count": 82,
   "metadata": {},
   "outputs": [
    {
     "data": {
      "text/html": [
       "<div>\n",
       "<style scoped>\n",
       "    .dataframe tbody tr th:only-of-type {\n",
       "        vertical-align: middle;\n",
       "    }\n",
       "\n",
       "    .dataframe tbody tr th {\n",
       "        vertical-align: top;\n",
       "    }\n",
       "\n",
       "    .dataframe thead th {\n",
       "        text-align: right;\n",
       "    }\n",
       "</style>\n",
       "<table border=\"1\" class=\"dataframe\">\n",
       "  <thead>\n",
       "    <tr style=\"text-align: right;\">\n",
       "      <th></th>\n",
       "      <th>location</th>\n",
       "      <th>number</th>\n",
       "      <th>percentage</th>\n",
       "    </tr>\n",
       "  </thead>\n",
       "  <tbody>\n",
       "    <tr>\n",
       "      <th>0</th>\n",
       "      <td>Aleppo</td>\n",
       "      <td>7990</td>\n",
       "      <td>0.260660</td>\n",
       "    </tr>\n",
       "    <tr>\n",
       "      <th>1</th>\n",
       "      <td>Damascus Suburbs</td>\n",
       "      <td>6372</td>\n",
       "      <td>0.207875</td>\n",
       "    </tr>\n",
       "    <tr>\n",
       "      <th>2</th>\n",
       "      <td>Idlib</td>\n",
       "      <td>4434</td>\n",
       "      <td>0.144651</td>\n",
       "    </tr>\n",
       "    <tr>\n",
       "      <th>3</th>\n",
       "      <td>Deir Ezzor</td>\n",
       "      <td>2904</td>\n",
       "      <td>0.094738</td>\n",
       "    </tr>\n",
       "    <tr>\n",
       "      <th>4</th>\n",
       "      <td>Homs</td>\n",
       "      <td>2304</td>\n",
       "      <td>0.075164</td>\n",
       "    </tr>\n",
       "    <tr>\n",
       "      <th>5</th>\n",
       "      <td>Daraa</td>\n",
       "      <td>2231</td>\n",
       "      <td>0.072782</td>\n",
       "    </tr>\n",
       "    <tr>\n",
       "      <th>6</th>\n",
       "      <td>Hama</td>\n",
       "      <td>1856</td>\n",
       "      <td>0.060549</td>\n",
       "    </tr>\n",
       "    <tr>\n",
       "      <th>7</th>\n",
       "      <td>Raqqa</td>\n",
       "      <td>1327</td>\n",
       "      <td>0.043291</td>\n",
       "    </tr>\n",
       "    <tr>\n",
       "      <th>8</th>\n",
       "      <td>Damascus</td>\n",
       "      <td>601</td>\n",
       "      <td>0.019607</td>\n",
       "    </tr>\n",
       "    <tr>\n",
       "      <th>9</th>\n",
       "      <td>Other Nationalities</td>\n",
       "      <td>139</td>\n",
       "      <td>0.004535</td>\n",
       "    </tr>\n",
       "    <tr>\n",
       "      <th>10</th>\n",
       "      <td>Quneitra</td>\n",
       "      <td>121</td>\n",
       "      <td>0.003947</td>\n",
       "    </tr>\n",
       "    <tr>\n",
       "      <th>11</th>\n",
       "      <td>Hasakeh</td>\n",
       "      <td>105</td>\n",
       "      <td>0.003425</td>\n",
       "    </tr>\n",
       "    <tr>\n",
       "      <th>12</th>\n",
       "      <td>Lattakia</td>\n",
       "      <td>103</td>\n",
       "      <td>0.003360</td>\n",
       "    </tr>\n",
       "    <tr>\n",
       "      <th>13</th>\n",
       "      <td>Unknown</td>\n",
       "      <td>83</td>\n",
       "      <td>0.002708</td>\n",
       "    </tr>\n",
       "    <tr>\n",
       "      <th>14</th>\n",
       "      <td>Tartous</td>\n",
       "      <td>48</td>\n",
       "      <td>0.001566</td>\n",
       "    </tr>\n",
       "    <tr>\n",
       "      <th>15</th>\n",
       "      <td>Sweida</td>\n",
       "      <td>35</td>\n",
       "      <td>0.001142</td>\n",
       "    </tr>\n",
       "  </tbody>\n",
       "</table>\n",
       "</div>"
      ],
      "text/plain": [
       "               location  number  percentage\n",
       "0                Aleppo    7990    0.260660\n",
       "1      Damascus Suburbs    6372    0.207875\n",
       "2                 Idlib    4434    0.144651\n",
       "3            Deir Ezzor    2904    0.094738\n",
       "4                  Homs    2304    0.075164\n",
       "5                 Daraa    2231    0.072782\n",
       "6                  Hama    1856    0.060549\n",
       "7                 Raqqa    1327    0.043291\n",
       "8              Damascus     601    0.019607\n",
       "9   Other Nationalities     139    0.004535\n",
       "10             Quneitra     121    0.003947\n",
       "11              Hasakeh     105    0.003425\n",
       "12             Lattakia     103    0.003360\n",
       "13              Unknown      83    0.002708\n",
       "14              Tartous      48    0.001566\n",
       "15               Sweida      35    0.001142"
      ]
     },
     "execution_count": 82,
     "metadata": {},
     "output_type": "execute_result"
    }
   ],
   "source": [
    "df_fact_location=df2['province'].value_counts().to_frame()\n",
    "df_fact_location=df_fact_location.reset_index()\n",
    "df_fact_location.columns=['location','number']\n",
    "total=0\n",
    "percentage=[]\n",
    "for i in df_fact_location['number']:\n",
    "    total=total+i\n",
    "for i in df_fact_location['number']:\n",
    "    percentage.append(i/total)\n",
    "df_fact_location['percentage']=pd.Series(percentage)\n",
    "df_fact_location"
   ]
  },
  {
   "cell_type": "code",
   "execution_count": 83,
   "metadata": {},
   "outputs": [
    {
     "name": "stderr",
     "output_type": "stream",
     "text": [
      "/Users/p17417864/Desktop/venv/lib/python3.6/site-packages/ipykernel_launcher.py:2: SettingWithCopyWarning: \n",
      "A value is trying to be set on a copy of a slice from a DataFrame\n",
      "\n",
      "See the caveats in the documentation: http://pandas.pydata.org/pandas-docs/stable/indexing.html#indexing-view-versus-copy\n",
      "  \n",
      "/Users/p17417864/Desktop/venv/lib/python3.6/site-packages/ipykernel_launcher.py:3: SettingWithCopyWarning: \n",
      "A value is trying to be set on a copy of a slice from a DataFrame\n",
      "\n",
      "See the caveats in the documentation: http://pandas.pydata.org/pandas-docs/stable/indexing.html#indexing-view-versus-copy\n",
      "  This is separate from the ipykernel package so we can avoid doing imports until\n"
     ]
    }
   ],
   "source": [
    "#As shown above, \"Damascus Suburbs\" can be merged into \"Damascus\".\n",
    "df_fact_location['number'][8]=df_fact_location['number'][8]+df_fact_location['number'][1]\n",
    "df_fact_location['percentage'][8]=df_fact_location['percentage'][8]+df_fact_location['percentage'][1]\n",
    "df_fact_location=df_fact_location.drop(1)"
   ]
  },
  {
   "cell_type": "markdown",
   "metadata": {},
   "source": [
    "## Clean and analyse death causes in the second dataset from Violation Documentation Center in Syria"
   ]
  },
  {
   "cell_type": "code",
   "execution_count": 33,
   "metadata": {},
   "outputs": [
    {
     "data": {
      "text/plain": [
       "Warplane shelling                   12926\n",
       "Shooting                             8348\n",
       "Shelling                             4789\n",
       "Explosion                            2353\n",
       "Field Execution                       487\n",
       "Detention - Torture                   465\n",
       "Kidnapping - Execution                387\n",
       "Unknown                               257\n",
       "Chemical and toxic gases              226\n",
       "Other                                 120\n",
       "Detention - Execution                 117\n",
       "Siege                                  93\n",
       "Un-allowed to seek Medical help        39\n",
       "Kidnapping - Torture                   31\n",
       "Kidnapping - Torture - Execution        9\n",
       "Detention - Torture - Execution         6\n",
       "Name: cause of death, dtype: int64"
      ]
     },
     "execution_count": 33,
     "metadata": {},
     "output_type": "execute_result"
    }
   ],
   "source": [
    "df2['cause of death'].value_counts()"
   ]
  },
  {
   "cell_type": "markdown",
   "metadata": {},
   "source": [
    "Merge \"Detention - Torture\", \"Kidnapping - Execution\", \"Detention - Execution\", \"Kidnapping - Torture\", \"Kidnapping - Torture - Execution\" ,\"Detention - Torture - Execution\" into \"mixed\" "
   ]
  },
  {
   "cell_type": "code",
   "execution_count": 122,
   "metadata": {},
   "outputs": [],
   "source": [
    "death_cause_fact=pd.DataFrame({'cause':['Warplane shelling', \n",
    "                                        'Shooting', \n",
    "                                        'Shelling', \n",
    "                                        'Explosion',\n",
    "                                        'Field Execution', \n",
    "                                        'Unknown', \n",
    "                                        'Chemical and toxic gases', \n",
    "                                        'Other', \n",
    "                                        'Siege',\n",
    "                                        'Un-allowed to seek Medical help',\n",
    "                                       'mixed'],\n",
    "                                'number':[12926,8348,4789,2353,487,257,226,120,93,39,976]})"
   ]
  },
  {
   "cell_type": "code",
   "execution_count": 123,
   "metadata": {},
   "outputs": [],
   "source": [
    "total=0\n",
    "percentage=[]\n",
    "for i in death_cause_fact['number']:\n",
    "    total=total+i\n",
    "for i in death_cause_fact['number']:\n",
    "    percentage.append(i/total)\n",
    "death_cause_fact['percentage']=pd.Series(percentage)"
   ]
  },
  {
   "cell_type": "markdown",
   "metadata": {},
   "source": [
    "## Analyse casualties of civilian and non-civilian caused by different actors"
   ]
  },
  {
   "cell_type": "code",
   "execution_count": 102,
   "metadata": {},
   "outputs": [
    {
     "data": {
      "text/plain": [
       "Syrian government and affiliated militias                              15580\n",
       "Russian troops                                                          3808\n",
       "The organization of the Islamic State in Iraq and the Levant - ISIS     3102\n",
       "Not identified                                                          2696\n",
       "International coalition forces                                          2059\n",
       "Armed opposition groups                                                 1634\n",
       "Self administration forces                                               582\n",
       "Al-Nusra Front                                                           112\n",
       "Name: actors, dtype: int64"
      ]
     },
     "execution_count": 102,
     "metadata": {},
     "output_type": "execute_result"
    }
   ],
   "source": [
    "emmm=df2['actors'].value_counts()\n",
    "emmm"
   ]
  },
  {
   "cell_type": "markdown",
   "metadata": {},
   "source": [
    "Apart from \"Not identified\", we chose to casualties of civilian and non-civilian caused by top 5 actors, namely \"Syrian government and affiliated militias\", \"Russian troops\", \"ISIS\", \"International coalition forces\", \"Armed opposition groups\"."
   ]
  },
  {
   "cell_type": "code",
   "execution_count": 91,
   "metadata": {},
   "outputs": [
    {
     "data": {
      "text/plain": [
       "Civilian        10324\n",
       "Non-Civilian     5256\n",
       "Name: status, dtype: int64"
      ]
     },
     "execution_count": 91,
     "metadata": {},
     "output_type": "execute_result"
    }
   ],
   "source": [
    "df2[df2['actors']=='Syrian government and affiliated militias']['status'].value_counts()"
   ]
  },
  {
   "cell_type": "code",
   "execution_count": 92,
   "metadata": {},
   "outputs": [
    {
     "data": {
      "text/plain": [
       "Civilian        3651\n",
       "Non-Civilian     157\n",
       "Name: status, dtype: int64"
      ]
     },
     "execution_count": 92,
     "metadata": {},
     "output_type": "execute_result"
    }
   ],
   "source": [
    "df2[df2['actors']=='Russian troops']['status'].value_counts()"
   ]
  },
  {
   "cell_type": "code",
   "execution_count": 93,
   "metadata": {},
   "outputs": [
    {
     "data": {
      "text/plain": [
       "Civilian        1950\n",
       "Non-Civilian    1152\n",
       "Name: status, dtype: int64"
      ]
     },
     "execution_count": 93,
     "metadata": {},
     "output_type": "execute_result"
    }
   ],
   "source": [
    "df2[df2['actors']=='The organization of the Islamic State in Iraq and the Levant - ISIS']['status'].value_counts()"
   ]
  },
  {
   "cell_type": "code",
   "execution_count": 94,
   "metadata": {},
   "outputs": [
    {
     "data": {
      "text/plain": [
       "Civilian        1905\n",
       "Non-Civilian     154\n",
       "Name: status, dtype: int64"
      ]
     },
     "execution_count": 94,
     "metadata": {},
     "output_type": "execute_result"
    }
   ],
   "source": [
    "df2[df2['actors']=='International coalition forces']['status'].value_counts()"
   ]
  },
  {
   "cell_type": "code",
   "execution_count": 95,
   "metadata": {},
   "outputs": [
    {
     "data": {
      "text/plain": [
       "Civilian        821\n",
       "Non-Civilian    813\n",
       "Name: status, dtype: int64"
      ]
     },
     "execution_count": 95,
     "metadata": {},
     "output_type": "execute_result"
    }
   ],
   "source": [
    "df2[df2['actors']=='Armed opposition groups']['status'].value_counts()"
   ]
  },
  {
   "cell_type": "code",
   "execution_count": 100,
   "metadata": {},
   "outputs": [],
   "source": [
    "actors_status=pd.DataFrame({'actors':['Syrian government and affiliated militias', \n",
    "                                        'Syrian government and affiliated militias', \n",
    "                                        'Russian troops', \n",
    "                                        'Russian troops',\n",
    "                                        'ISIS', \n",
    "                                        'ISIS', \n",
    "                                        'International coalition forces', \n",
    "                                        'International coalition forces', \n",
    "                                        'Armed opposition groups',\n",
    "                                       'Armed opposition groups'],\n",
    "                               'status':['Civilian','Non-Civilian',\n",
    "                                        'Civilian','Non-Civilian',\n",
    "                                        'Civilian','Non-Civilian',\n",
    "                                        'Civilian','Non-Civilian',\n",
    "                                        'Civilian','Non-Civilian'],\n",
    "                                'number':[10324,5256,3651,157,1950,1152,1905,154,821,813]})"
   ]
  },
  {
   "cell_type": "code",
   "execution_count": 105,
   "metadata": {},
   "outputs": [],
   "source": [
    "percentage=[]\n",
    "for i in range(5):\n",
    "    percentage.append(actors_status['number'][2*i]/emmm.values[i])\n",
    "    percentage.append(actors_status['number'][2*i+1]/emmm.values[i])\n",
    "actors_status['percentage']=pd.Series(percentage)"
   ]
  },
  {
   "cell_type": "markdown",
   "metadata": {},
   "source": [
    "# Part 2 Data Visualisation"
   ]
  },
  {
   "cell_type": "markdown",
   "metadata": {},
   "source": [
    "## Comparing location distribution in two datasets"
   ]
  },
  {
   "cell_type": "code",
   "execution_count": null,
   "metadata": {},
   "outputs": [],
   "source": [
    "df_fact_location=df_fact_location.sort_values(by='percentage',ascending=True)[7:15]"
   ]
  },
  {
   "cell_type": "code",
   "execution_count": 126,
   "metadata": {},
   "outputs": [
    {
     "data": {
      "text/plain": [
       "(0, 1)"
      ]
     },
     "execution_count": 126,
     "metadata": {},
     "output_type": "execute_result"
    },
    {
     "data": {
      "image/png": "[encoded data removed]",
      "text/plain": [
       "<Figure size 504x252 with 1 Axes>"
      ]
     },
     "metadata": {},
     "output_type": "display_data"
    }
   ],
   "source": [
    "fig=plt.figure(figsize=(7,3.5))\n",
    "plt.barh(df_fact_location['location'].values,df_fact_location['percentage'].apply(float).values,\n",
    "        color=['#cccccc','#cccccc','#cccccc','#cccccc','#b30000','#b30000','#b30000','#b30000'])\n",
    "plt.title('location distribution in the second dataset',fontsize=20)\n",
    "plt.xlim(range(2))\n",
    "plt.savefig('location_fact.png')"
   ]
  },
  {
   "cell_type": "code",
   "execution_count": 127,
   "metadata": {},
   "outputs": [
    {
     "data": {
      "text/plain": [
       "(0, 1)"
      ]
     },
     "execution_count": 127,
     "metadata": {},
     "output_type": "execute_result"
    },
    {
     "data": {
      "image/png": "[encoded data removed]",
      "text/plain": [
       "<Figure size 504x252 with 1 Axes>"
      ]
     },
     "metadata": {},
     "output_type": "display_data"
    }
   ],
   "source": [
    "fig=plt.figure(figsize=(7,3.5))\n",
    "plt.barh(df_fact_location['location'].values,[0,0.042369,0.003702,0.016043,0,0.090086,0.039901,0.789798],\n",
    "         color=['#cccccc','#b30000','#cccccc','#cccccc','#cccccc','#b30000','#b30000','#b30000'])\n",
    "plt.title('location distribution in the first dataset',fontsize=20)\n",
    "plt.xlim(range(2))\n",
    "plt.savefig('location_media.png')"
   ]
  },
  {
   "cell_type": "markdown",
   "metadata": {},
   "source": [
    "Use photoshop to refine the two graphs, then we get:"
   ]
  },
  {
   "cell_type": "markdown",
   "metadata": {},
   "source": [
    "<img src=\"https://ws1.sinaimg.cn/large/0067b1PEgy1fqzwyb9qulj30pe0dddjc.jpg\" width=\"80%\" height=\"80%\">"
   ]
  },
  {
   "cell_type": "markdown",
   "metadata": {},
   "source": [
    "## Compare and Visualize death causes in two datasets"
   ]
  },
  {
   "cell_type": "code",
   "execution_count": 124,
   "metadata": {},
   "outputs": [
    {
     "data": {
      "text/html": [
       "<div>\n",
       "<style scoped>\n",
       "    .dataframe tbody tr th:only-of-type {\n",
       "        vertical-align: middle;\n",
       "    }\n",
       "\n",
       "    .dataframe tbody tr th {\n",
       "        vertical-align: top;\n",
       "    }\n",
       "\n",
       "    .dataframe thead th {\n",
       "        text-align: right;\n",
       "    }\n",
       "</style>\n",
       "<table border=\"1\" class=\"dataframe\">\n",
       "  <thead>\n",
       "    <tr style=\"text-align: right;\">\n",
       "      <th></th>\n",
       "      <th>cause</th>\n",
       "      <th>number</th>\n",
       "      <th>percentage</th>\n",
       "    </tr>\n",
       "  </thead>\n",
       "  <tbody>\n",
       "    <tr>\n",
       "      <th>0</th>\n",
       "      <td>Warplane shelling</td>\n",
       "      <td>12926</td>\n",
       "      <td>0.422225</td>\n",
       "    </tr>\n",
       "    <tr>\n",
       "      <th>1</th>\n",
       "      <td>Shooting</td>\n",
       "      <td>8348</td>\n",
       "      <td>0.272686</td>\n",
       "    </tr>\n",
       "    <tr>\n",
       "      <th>2</th>\n",
       "      <td>Shelling</td>\n",
       "      <td>4789</td>\n",
       "      <td>0.156432</td>\n",
       "    </tr>\n",
       "    <tr>\n",
       "      <th>3</th>\n",
       "      <td>Explosion</td>\n",
       "      <td>2353</td>\n",
       "      <td>0.076860</td>\n",
       "    </tr>\n",
       "    <tr>\n",
       "      <th>4</th>\n",
       "      <td>Field Execution</td>\n",
       "      <td>487</td>\n",
       "      <td>0.015908</td>\n",
       "    </tr>\n",
       "    <tr>\n",
       "      <th>5</th>\n",
       "      <td>Unknown</td>\n",
       "      <td>257</td>\n",
       "      <td>0.008395</td>\n",
       "    </tr>\n",
       "    <tr>\n",
       "      <th>6</th>\n",
       "      <td>Chemical and toxic gases</td>\n",
       "      <td>226</td>\n",
       "      <td>0.007382</td>\n",
       "    </tr>\n",
       "    <tr>\n",
       "      <th>7</th>\n",
       "      <td>Other</td>\n",
       "      <td>120</td>\n",
       "      <td>0.003920</td>\n",
       "    </tr>\n",
       "    <tr>\n",
       "      <th>8</th>\n",
       "      <td>Siege</td>\n",
       "      <td>93</td>\n",
       "      <td>0.003038</td>\n",
       "    </tr>\n",
       "    <tr>\n",
       "      <th>9</th>\n",
       "      <td>Un-allowed to seek Medical help</td>\n",
       "      <td>39</td>\n",
       "      <td>0.001274</td>\n",
       "    </tr>\n",
       "    <tr>\n",
       "      <th>10</th>\n",
       "      <td>mixed</td>\n",
       "      <td>976</td>\n",
       "      <td>0.031881</td>\n",
       "    </tr>\n",
       "  </tbody>\n",
       "</table>\n",
       "</div>"
      ],
      "text/plain": [
       "                              cause  number  percentage\n",
       "0                 Warplane shelling   12926    0.422225\n",
       "1                          Shooting    8348    0.272686\n",
       "2                          Shelling    4789    0.156432\n",
       "3                         Explosion    2353    0.076860\n",
       "4                   Field Execution     487    0.015908\n",
       "5                           Unknown     257    0.008395\n",
       "6          Chemical and toxic gases     226    0.007382\n",
       "7                             Other     120    0.003920\n",
       "8                             Siege      93    0.003038\n",
       "9   Un-allowed to seek Medical help      39    0.001274\n",
       "10                            mixed     976    0.031881"
      ]
     },
     "execution_count": 124,
     "metadata": {},
     "output_type": "execute_result"
    }
   ],
   "source": [
    "death_cause_fact"
   ]
  },
  {
   "cell_type": "code",
   "execution_count": 114,
   "metadata": {},
   "outputs": [
    {
     "data": {
      "text/html": [
       "<div>\n",
       "<style scoped>\n",
       "    .dataframe tbody tr th:only-of-type {\n",
       "        vertical-align: middle;\n",
       "    }\n",
       "\n",
       "    .dataframe tbody tr th {\n",
       "        vertical-align: top;\n",
       "    }\n",
       "\n",
       "    .dataframe thead th {\n",
       "        text-align: right;\n",
       "    }\n",
       "</style>\n",
       "<table border=\"1\" class=\"dataframe\">\n",
       "  <thead>\n",
       "    <tr style=\"text-align: right;\">\n",
       "      <th></th>\n",
       "      <th>cause</th>\n",
       "      <th>number</th>\n",
       "      <th>percentage</th>\n",
       "    </tr>\n",
       "  </thead>\n",
       "  <tbody>\n",
       "    <tr>\n",
       "      <th>0</th>\n",
       "      <td>Civilian casualties as a result of alleged rus...</td>\n",
       "      <td>233</td>\n",
       "      <td>0.453307</td>\n",
       "    </tr>\n",
       "    <tr>\n",
       "      <th>1</th>\n",
       "      <td>Chemical weapons</td>\n",
       "      <td>158</td>\n",
       "      <td>0.307393</td>\n",
       "    </tr>\n",
       "    <tr>\n",
       "      <th>2</th>\n",
       "      <td>Attacks against hospitals</td>\n",
       "      <td>105</td>\n",
       "      <td>0.204280</td>\n",
       "    </tr>\n",
       "    <tr>\n",
       "      <th>3</th>\n",
       "      <td>Attacks against schools</td>\n",
       "      <td>9</td>\n",
       "      <td>0.017510</td>\n",
       "    </tr>\n",
       "    <tr>\n",
       "      <th>4</th>\n",
       "      <td>Attacks against humanitarian relief personnel ...</td>\n",
       "      <td>7</td>\n",
       "      <td>0.013619</td>\n",
       "    </tr>\n",
       "    <tr>\n",
       "      <th>5</th>\n",
       "      <td>Attacks against bakeries</td>\n",
       "      <td>1</td>\n",
       "      <td>0.001946</td>\n",
       "    </tr>\n",
       "    <tr>\n",
       "      <th>6</th>\n",
       "      <td>Attacks against journalists</td>\n",
       "      <td>1</td>\n",
       "      <td>0.001946</td>\n",
       "    </tr>\n",
       "  </tbody>\n",
       "</table>\n",
       "</div>"
      ],
      "text/plain": [
       "                                               cause  number  percentage\n",
       "0  Civilian casualties as a result of alleged rus...     233    0.453307\n",
       "1                                   Chemical weapons     158    0.307393\n",
       "2                          Attacks against hospitals     105    0.204280\n",
       "3                            Attacks against schools       9    0.017510\n",
       "4  Attacks against humanitarian relief personnel ...       7    0.013619\n",
       "5                           Attacks against bakeries       1    0.001946\n",
       "6                        Attacks against journalists       1    0.001946"
      ]
     },
     "execution_count": 114,
     "metadata": {},
     "output_type": "execute_result"
    }
   ],
   "source": [
    "death_cause_media"
   ]
  },
  {
   "cell_type": "markdown",
   "metadata": {},
   "source": [
    "Use R Language and Photopshop to visualize the results:"
   ]
  },
  {
   "cell_type": "markdown",
   "metadata": {},
   "source": [
    "<img src=\"https://ws1.sinaimg.cn/large/0067b1PEgy1fr02ckwtfwj315h11ijyr.jpg\" width=\"70%\" height=\"70%\">"
   ]
  },
  {
   "cell_type": "markdown",
   "metadata": {},
   "source": [
    "## Visualize casualties of civilian and non-civilian caused by different actors"
   ]
  },
  {
   "cell_type": "code",
   "execution_count": 106,
   "metadata": {},
   "outputs": [
    {
     "data": {
      "text/html": [
       "<div>\n",
       "<style scoped>\n",
       "    .dataframe tbody tr th:only-of-type {\n",
       "        vertical-align: middle;\n",
       "    }\n",
       "\n",
       "    .dataframe tbody tr th {\n",
       "        vertical-align: top;\n",
       "    }\n",
       "\n",
       "    .dataframe thead th {\n",
       "        text-align: right;\n",
       "    }\n",
       "</style>\n",
       "<table border=\"1\" class=\"dataframe\">\n",
       "  <thead>\n",
       "    <tr style=\"text-align: right;\">\n",
       "      <th></th>\n",
       "      <th>actors</th>\n",
       "      <th>number</th>\n",
       "      <th>status</th>\n",
       "      <th>percentage</th>\n",
       "    </tr>\n",
       "  </thead>\n",
       "  <tbody>\n",
       "    <tr>\n",
       "      <th>0</th>\n",
       "      <td>Syrian government and affiliated militias</td>\n",
       "      <td>10324</td>\n",
       "      <td>Civilian</td>\n",
       "      <td>0.662644</td>\n",
       "    </tr>\n",
       "    <tr>\n",
       "      <th>1</th>\n",
       "      <td>Syrian government and affiliated militias</td>\n",
       "      <td>5256</td>\n",
       "      <td>Non-Civilian</td>\n",
       "      <td>0.337356</td>\n",
       "    </tr>\n",
       "    <tr>\n",
       "      <th>2</th>\n",
       "      <td>Russian troops</td>\n",
       "      <td>3651</td>\n",
       "      <td>Civilian</td>\n",
       "      <td>0.958771</td>\n",
       "    </tr>\n",
       "    <tr>\n",
       "      <th>3</th>\n",
       "      <td>Russian troops</td>\n",
       "      <td>157</td>\n",
       "      <td>Non-Civilian</td>\n",
       "      <td>0.041229</td>\n",
       "    </tr>\n",
       "    <tr>\n",
       "      <th>4</th>\n",
       "      <td>ISIS</td>\n",
       "      <td>1950</td>\n",
       "      <td>Civilian</td>\n",
       "      <td>0.628627</td>\n",
       "    </tr>\n",
       "    <tr>\n",
       "      <th>5</th>\n",
       "      <td>ISIS</td>\n",
       "      <td>1152</td>\n",
       "      <td>Non-Civilian</td>\n",
       "      <td>0.371373</td>\n",
       "    </tr>\n",
       "    <tr>\n",
       "      <th>6</th>\n",
       "      <td>International coalition forces</td>\n",
       "      <td>1905</td>\n",
       "      <td>Civilian</td>\n",
       "      <td>0.706602</td>\n",
       "    </tr>\n",
       "    <tr>\n",
       "      <th>7</th>\n",
       "      <td>International coalition forces</td>\n",
       "      <td>154</td>\n",
       "      <td>Non-Civilian</td>\n",
       "      <td>0.057122</td>\n",
       "    </tr>\n",
       "    <tr>\n",
       "      <th>8</th>\n",
       "      <td>Armed opposition groups</td>\n",
       "      <td>821</td>\n",
       "      <td>Civilian</td>\n",
       "      <td>0.398737</td>\n",
       "    </tr>\n",
       "    <tr>\n",
       "      <th>9</th>\n",
       "      <td>Armed opposition groups</td>\n",
       "      <td>813</td>\n",
       "      <td>Non-Civilian</td>\n",
       "      <td>0.394852</td>\n",
       "    </tr>\n",
       "  </tbody>\n",
       "</table>\n",
       "</div>"
      ],
      "text/plain": [
       "                                      actors  number        status  percentage\n",
       "0  Syrian government and affiliated militias   10324      Civilian    0.662644\n",
       "1  Syrian government and affiliated militias    5256  Non-Civilian    0.337356\n",
       "2                             Russian troops    3651      Civilian    0.958771\n",
       "3                             Russian troops     157  Non-Civilian    0.041229\n",
       "4                                       ISIS    1950      Civilian    0.628627\n",
       "5                                       ISIS    1152  Non-Civilian    0.371373\n",
       "6             International coalition forces    1905      Civilian    0.706602\n",
       "7             International coalition forces     154  Non-Civilian    0.057122\n",
       "8                    Armed opposition groups     821      Civilian    0.398737\n",
       "9                    Armed opposition groups     813  Non-Civilian    0.394852"
      ]
     },
     "execution_count": 106,
     "metadata": {},
     "output_type": "execute_result"
    }
   ],
   "source": [
    "actors_status"
   ]
  },
  {
   "cell_type": "code",
   "execution_count": 128,
   "metadata": {},
   "outputs": [
    {
     "data": {
      "text/plain": [
       "([<matplotlib.axis.XTick at 0x1106ee0b8>,\n",
       "  <matplotlib.axis.XTick at 0x11061b9b0>,\n",
       "  <matplotlib.axis.XTick at 0x11061b710>,\n",
       "  <matplotlib.axis.XTick at 0x110791710>,\n",
       "  <matplotlib.axis.XTick at 0x110791be0>,\n",
       "  <matplotlib.axis.XTick at 0x11061b438>],\n",
       " <a list of 5 Text xticklabel objects>)"
      ]
     },
     "execution_count": 128,
     "metadata": {},
     "output_type": "execute_result"
    },
    {
     "data": {
      "image/png": "[encoded data removed]",
      "text/plain": [
       "<Figure size 504x360 with 1 Axes>"
      ]
     },
     "metadata": {},
     "output_type": "display_data"
    }
   ],
   "source": [
    "fig=plt.figure(figsize=(7,5))\n",
    "d=np.arange(5)\n",
    "y1=actors_status['percentage'][d*2]\n",
    "plt.bar(d,y1,label='Civilian',color='#b30000')\n",
    "plt.bar(d,actors_status['percentage'][d*2+1],bottom=y1,label='Non Civilian',color='#b3b3b3')\n",
    "plt.xticks(range(6),actors_status['actors'][d*2])\n",
    "plt.savefig('russia_citizen.png')"
   ]
  },
  {
   "cell_type": "markdown",
   "metadata": {},
   "source": [
    "Use photoshop to refine the graph, then we get:"
   ]
  },
  {
   "cell_type": "markdown",
   "metadata": {},
   "source": [
    "<img src=\"https://ws1.sinaimg.cn/large/0067b1PEgy1fqzyd8ppmoj30s00k0acf.jpg\" width=\"70%\" height=\"70%\">"
   ]
  },
  {
   "cell_type": "markdown",
   "metadata": {},
   "source": [
    "## Visualize the location distribution of casualties caused by Russian troops"
   ]
  },
  {
   "cell_type": "code",
   "execution_count": 112,
   "metadata": {},
   "outputs": [
    {
     "data": {
      "text/plain": [
       "Aleppo              1554\n",
       "Idlib                754\n",
       "Deir Ezzor           639\n",
       "Hama                 343\n",
       "Damascus Suburbs     258\n",
       "Homs                 129\n",
       "Raqqa                 91\n",
       "Daraa                 30\n",
       "Damascus               8\n",
       "Lattakia               2\n",
       "Name: province, dtype: int64"
      ]
     },
     "execution_count": 112,
     "metadata": {},
     "output_type": "execute_result"
    }
   ],
   "source": [
    "df2[df2['actors']=='Russian troops']['province'].value_counts()"
   ]
  },
  {
   "cell_type": "markdown",
   "metadata": {},
   "source": [
    "Use photoshop to visualize the results, then we get:"
   ]
  },
  {
   "cell_type": "markdown",
   "metadata": {},
   "source": [
    "<img src=\"https://ws1.sinaimg.cn/large/0067b1PEgy1fqzyetk2obj32bc290qg7.jpg\" width=\"60%\" height=\"60%\">"
   ]
  },
  {
   "cell_type": "markdown",
   "metadata": {},
   "source": [
    "## Other aspects mentioned in the story"
   ]
  },
  {
   "cell_type": "code",
   "execution_count": 110,
   "metadata": {},
   "outputs": [
    {
     "data": {
      "text/plain": [
       "Unlawful attacks          220\n",
       "Use of illegal weapons     10\n",
       "Name: violation, dtype: int64"
      ]
     },
     "execution_count": 110,
     "metadata": {},
     "output_type": "execute_result"
    }
   ],
   "source": [
    "df1[df1['collection']=='Civilian casualties as a result of alleged russian attacks']['violation'].value_counts()"
   ]
  },
  {
   "cell_type": "code",
   "execution_count": null,
   "metadata": {},
   "outputs": [],
   "source": []
  },
  {
   "cell_type": "code",
   "execution_count": null,
   "metadata": {},
   "outputs": [],
   "source": []
  },
  {
   "cell_type": "code",
   "execution_count": null,
   "metadata": {},
   "outputs": [],
   "source": []
  }
 ],
 "metadata": {
  "kernelspec": {
   "display_name": "Python 3",
   "language": "python",
   "name": "python3"
  },
  "language_info": {
   "codemirror_mode": {
    "name": "ipython",
    "version": 3
   },
   "file_extension": ".py",
   "mimetype": "text/x-python",
   "name": "python",
   "nbconvert_exporter": "python",
   "pygments_lexer": "ipython3",
   "version": "3.6.4"
  }
 },
 "nbformat": 4,
 "nbformat_minor": 2
}
